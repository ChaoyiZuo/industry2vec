{
 "cells": [
  {
   "cell_type": "markdown",
   "metadata": {},
   "source": [
    "```\n",
    "Licensed to the Apache Software Foundation (ASF) under one or more\n",
    "contributor license agreements.  See the NOTICE file distributed with\n",
    "this work for additional information regarding copyright ownership.\n",
    "The ASF licenses this file to You under the Apache License, Version 2.0\n",
    "(the \"License\"); you may not use this file except in compliance with\n",
    "the License.  You may obtain a copy of the License at\n",
    "\n",
    "   http://www.apache.org/licenses/LICENSE-2.0\n",
    "\n",
    "Unless required by applicable law or agreed to in writing, software\n",
    "distributed under the License is distributed on an \"AS IS\" BASIS,\n",
    "WITHOUT WARRANTIES OR CONDITIONS OF ANY KIND, either express or implied.\n",
    "See the License for the specific language governing permissions and\n",
    "limitations under the License.\n",
    "```"
   ]
  },
  {
   "cell_type": "markdown",
   "metadata": {},
   "source": [
    "# This jupypter notebook demenstrate how we get the industry vector from company structure data"
   ]
  },
  {
   "cell_type": "code",
   "execution_count": 1,
   "metadata": {},
   "outputs": [],
   "source": [
    "%load_ext autoreload\n",
    "%autoreload 2"
   ]
  },
  {
   "cell_type": "code",
   "execution_count": null,
   "metadata": {
    "scrolled": true
   },
   "outputs": [],
   "source": [
    "cd ../src"
   ]
  },
  {
   "cell_type": "code",
   "execution_count": 54,
   "metadata": {
    "collapsed": true
   },
   "outputs": [],
   "source": [
    "from keras.models import Model\n",
    "from keras.layers import dot, Input, Activation, Embedding, Flatten, BatchNormalization, LSTM\n",
    "from keras.callbacks import EarlyStopping\n",
    "import pandas as pd\n",
    "import numpy as np\n",
    "import seaborn as sns\n",
    "from sklearn.manifold import TSNE\n",
    "import matplotlib\n",
    "import matplotlib.pyplot as plt\n",
    "%matplotlib inline\n",
    "\n",
    "import utils\n",
    "from params import params\n",
    "import evaluation\n",
    "from ing_models import industry_embedding_model_build\n",
    "from ing_models import industry_embedding_model_fit\n"
   ]
  },
  {
   "cell_type": "code",
   "execution_count": null,
   "metadata": {},
   "outputs": [],
   "source": [
    "cd .."
   ]
  },
  {
   "cell_type": "markdown",
   "metadata": {},
   "source": [
    "# Download GLOVE "
   ]
  },
  {
   "cell_type": "code",
   "execution_count": null,
   "metadata": {
    "collapsed": true
   },
   "outputs": [],
   "source": [
    "# %%bash\n",
    "# cd data\n",
    "# wget http://nlp.stanford.edu/data/wordvecs/glove.6B.zip\n",
    "# unzip glove.840B.300d.zip\n",
    "# cd .."
   ]
  },
  {
   "cell_type": "markdown",
   "metadata": {},
   "source": [
    "# Load data"
   ]
  },
  {
   "cell_type": "markdown",
   "metadata": {},
   "source": [
    "A dummy file of industry_data.csv. The first column is parent company industry code code, and the second column is a list of industry code of all children. This file is used to generate industry code pair\n",
    "```\n",
    "naics;industry_list\n",
    "522110;[522110, 522110, 522110, 522110, 999990]\n",
    "511210;[334613, 561499, 423430, 541511]\n",
    "523999;[523999, 561499, 522190, 561990, 531210, 237210, 561990, 999990]\n",
    "236220;[236115, 531390, 237130, 531390, 531390, 523999]\n",
    "424340;[339930, 523999, 424340, 523999, 812990]\n",
    "```"
   ]
  },
  {
   "cell_type": "markdown",
   "metadata": {},
   "source": [
    "A dummy file of industry_data.csv. The first column is the industry code, and the second column is the number of occurence of the industry code in all company trees. This file is \n",
    "```\n",
    "naics;cnt\n",
    "332999;3000\n",
    "518210;2000\n",
    "541870;120\n",
    "236220;500\n",
    "452111;900\n",
    "325180;700\n",
    "315220;200\n",
    "```"
   ]
  },
  {
   "cell_type": "code",
   "execution_count": 23,
   "metadata": {},
   "outputs": [
    {
     "name": "stdout",
     "output_type": "stream",
     "text": [
      "Found 583 unique tokens.\n",
      "Shape of data tensor: (434, 30)\n"
     ]
    }
   ],
   "source": [
    "df_context, df_weight = utils.load_data('./data/industry_data.csv', './data/industry_weight.csv')\n",
    "df_context, df_weight, df_pos, idx2industry, industry2idx = utils.prepare_data(df_context, df_weight, digit=4)\n",
    "\n",
    "df_desc, dict_digit_desc, digit_l = utils.get_desc_dict('./data/naics_code_description.csv')\n",
    "df_desc['desc'] = utils.get_desc(df_desc, 'Code', digit_l, dict_digit_desc)\n",
    "\n",
    "naics_2digit_to_idx, idx_to_naics_2digit = utils.get_2digit_idx_dict('./data/naics_code_description.csv')\n",
    "\n",
    "embeddings_index = utils.get_glove_embedding_dict('./data/glove.840B.300d.txt')\n",
    "embedding_matrix, dict_sequence, num_words = \\\n",
    "    utils.get_embedding_vector(df_desc, col_desc='desc', col_naics='Code', embeddings_index=embeddings_index)\n",
    "\n",
    "df = utils.get_input(df_context,\n",
    "                     df_weight,\n",
    "                     df_pos,\n",
    "                     dict_sequence,\n",
    "                     naics_col='naics_4_digit',\n",
    "                     industry2idx=industry2idx,\n",
    "                     naics_2digit_to_idx=naics_2digit_to_idx)"
   ]
  },
  {
   "cell_type": "code",
   "execution_count": 24,
   "metadata": {},
   "outputs": [
    {
     "data": {
      "text/html": [
       "<div>\n",
       "<style>\n",
       "    .dataframe thead tr:only-child th {\n",
       "        text-align: right;\n",
       "    }\n",
       "\n",
       "    .dataframe thead th {\n",
       "        text-align: left;\n",
       "    }\n",
       "\n",
       "    .dataframe tbody tr th {\n",
       "        vertical-align: top;\n",
       "    }\n",
       "</style>\n",
       "<table border=\"1\" class=\"dataframe\">\n",
       "  <thead>\n",
       "    <tr style=\"text-align: right;\">\n",
       "      <th></th>\n",
       "      <th>naics_4_digit</th>\n",
       "      <th>context</th>\n",
       "      <th>label</th>\n",
       "      <th>target_desc</th>\n",
       "      <th>context_desc</th>\n",
       "      <th>naics_4_digit_2digit_idx</th>\n",
       "      <th>context_2digit_idx</th>\n",
       "      <th>same_2_digit</th>\n",
       "    </tr>\n",
       "  </thead>\n",
       "  <tbody>\n",
       "    <tr>\n",
       "      <th>0</th>\n",
       "      <td>223</td>\n",
       "      <td>223</td>\n",
       "      <td>1</td>\n",
       "      <td>[0, 0, 0, 0, 0, 0, 0, 0, 0, 0, 0, 0, 0, 0, 0, ...</td>\n",
       "      <td>[0, 0, 0, 0, 0, 0, 0, 0, 0, 0, 0, 0, 0, 0, 0, ...</td>\n",
       "      <td>5</td>\n",
       "      <td>5</td>\n",
       "      <td>1</td>\n",
       "    </tr>\n",
       "    <tr>\n",
       "      <th>1</th>\n",
       "      <td>223</td>\n",
       "      <td>223</td>\n",
       "      <td>1</td>\n",
       "      <td>[0, 0, 0, 0, 0, 0, 0, 0, 0, 0, 0, 0, 0, 0, 0, ...</td>\n",
       "      <td>[0, 0, 0, 0, 0, 0, 0, 0, 0, 0, 0, 0, 0, 0, 0, ...</td>\n",
       "      <td>5</td>\n",
       "      <td>5</td>\n",
       "      <td>1</td>\n",
       "    </tr>\n",
       "    <tr>\n",
       "      <th>2</th>\n",
       "      <td>223</td>\n",
       "      <td>223</td>\n",
       "      <td>1</td>\n",
       "      <td>[0, 0, 0, 0, 0, 0, 0, 0, 0, 0, 0, 0, 0, 0, 0, ...</td>\n",
       "      <td>[0, 0, 0, 0, 0, 0, 0, 0, 0, 0, 0, 0, 0, 0, 0, ...</td>\n",
       "      <td>5</td>\n",
       "      <td>5</td>\n",
       "      <td>1</td>\n",
       "    </tr>\n",
       "    <tr>\n",
       "      <th>3</th>\n",
       "      <td>223</td>\n",
       "      <td>223</td>\n",
       "      <td>1</td>\n",
       "      <td>[0, 0, 0, 0, 0, 0, 0, 0, 0, 0, 0, 0, 0, 0, 0, ...</td>\n",
       "      <td>[0, 0, 0, 0, 0, 0, 0, 0, 0, 0, 0, 0, 0, 0, 0, ...</td>\n",
       "      <td>5</td>\n",
       "      <td>5</td>\n",
       "      <td>1</td>\n",
       "    </tr>\n",
       "    <tr>\n",
       "      <th>4</th>\n",
       "      <td>223</td>\n",
       "      <td>327</td>\n",
       "      <td>1</td>\n",
       "      <td>[0, 0, 0, 0, 0, 0, 0, 0, 0, 0, 0, 0, 0, 0, 0, ...</td>\n",
       "      <td>[0, 0, 0, 0, 0, 0, 0, 0, 0, 0, 0, 0, 0, 0, 0, ...</td>\n",
       "      <td>5</td>\n",
       "      <td>24</td>\n",
       "      <td>0</td>\n",
       "    </tr>\n",
       "  </tbody>\n",
       "</table>\n",
       "</div>"
      ],
      "text/plain": [
       "   naics_4_digit  context  label  \\\n",
       "0            223      223      1   \n",
       "1            223      223      1   \n",
       "2            223      223      1   \n",
       "3            223      223      1   \n",
       "4            223      327      1   \n",
       "\n",
       "                                         target_desc  \\\n",
       "0  [0, 0, 0, 0, 0, 0, 0, 0, 0, 0, 0, 0, 0, 0, 0, ...   \n",
       "1  [0, 0, 0, 0, 0, 0, 0, 0, 0, 0, 0, 0, 0, 0, 0, ...   \n",
       "2  [0, 0, 0, 0, 0, 0, 0, 0, 0, 0, 0, 0, 0, 0, 0, ...   \n",
       "3  [0, 0, 0, 0, 0, 0, 0, 0, 0, 0, 0, 0, 0, 0, 0, ...   \n",
       "4  [0, 0, 0, 0, 0, 0, 0, 0, 0, 0, 0, 0, 0, 0, 0, ...   \n",
       "\n",
       "                                        context_desc  \\\n",
       "0  [0, 0, 0, 0, 0, 0, 0, 0, 0, 0, 0, 0, 0, 0, 0, ...   \n",
       "1  [0, 0, 0, 0, 0, 0, 0, 0, 0, 0, 0, 0, 0, 0, 0, ...   \n",
       "2  [0, 0, 0, 0, 0, 0, 0, 0, 0, 0, 0, 0, 0, 0, 0, ...   \n",
       "3  [0, 0, 0, 0, 0, 0, 0, 0, 0, 0, 0, 0, 0, 0, 0, ...   \n",
       "4  [0, 0, 0, 0, 0, 0, 0, 0, 0, 0, 0, 0, 0, 0, 0, ...   \n",
       "\n",
       "   naics_4_digit_2digit_idx  context_2digit_idx  same_2_digit  \n",
       "0                         5                   5             1  \n",
       "1                         5                   5             1  \n",
       "2                         5                   5             1  \n",
       "3                         5                   5             1  \n",
       "4                         5                  24             0  "
      ]
     },
     "execution_count": 24,
     "metadata": {},
     "output_type": "execute_result"
    }
   ],
   "source": [
    "df.head()"
   ]
  },
  {
   "cell_type": "markdown",
   "metadata": {},
   "source": [
    "# Build model"
   ]
  },
  {
   "cell_type": "code",
   "execution_count": 6,
   "metadata": {
    "collapsed": true
   },
   "outputs": [],
   "source": [
    "from keras.preprocessing.text import Tokenizer\n",
    "from keras.preprocessing.sequence import pad_sequences\n",
    "from utils import MAX_SEQUENCE_LENGTH, EMBEDDING_DIM, MAX_NUM_WORDS, text_to_wordlist"
   ]
  },
  {
   "cell_type": "code",
   "execution_count": 7,
   "metadata": {},
   "outputs": [
    {
     "name": "stdout",
     "output_type": "stream",
     "text": [
      "vec_dim: 6\n",
      "vocab_size: 329\n"
     ]
    }
   ],
   "source": [
    "vec_dim_4digit = 2\n",
    "vec_dim_desc = 6\n",
    "vocab_size = len(idx2industry)+1\n",
    "\n",
    "print('vector dimension for digit embedding: {}'.format(vec_dim_desc))\n",
    "print('vector dimension for text description embedding: {}'.format(vec_dim_desc))\n",
    "print('vocab_size: {}'.format(vocab_size))"
   ]
  },
  {
   "cell_type": "code",
   "execution_count": 8,
   "metadata": {},
   "outputs": [
    {
     "name": "stdout",
     "output_type": "stream",
     "text": [
      "__________________________________________________________________________________________________\n",
      "Layer (type)                    Output Shape         Param #     Connected to                     \n",
      "==================================================================================================\n",
      "input_1 (InputLayer)            (None, 1)            0                                            \n",
      "__________________________________________________________________________________________________\n",
      "input_3 (InputLayer)            (None, 30)           0                                            \n",
      "__________________________________________________________________________________________________\n",
      "input_2 (InputLayer)            (None, 1)            0                                            \n",
      "__________________________________________________________________________________________________\n",
      "input_4 (InputLayer)            (None, 30)           0                                            \n",
      "__________________________________________________________________________________________________\n",
      "embedding_1 (Embedding)         (None, 1, 2)         658         input_1[0][0]                    \n",
      "__________________________________________________________________________________________________\n",
      "embedding_3 (Embedding)         (None, 30, 50)       29200       input_3[0][0]                    \n",
      "                                                                 input_4[0][0]                    \n",
      "__________________________________________________________________________________________________\n",
      "embedding_2 (Embedding)         (None, 1, 2)         658         input_2[0][0]                    \n",
      "__________________________________________________________________________________________________\n",
      "flatten_1 (Flatten)             (None, 2)            0           embedding_1[0][0]                \n",
      "__________________________________________________________________________________________________\n",
      "lstm_1 (LSTM)                   (None, 6)            1368        embedding_3[0][0]                \n",
      "                                                                 embedding_3[1][0]                \n",
      "__________________________________________________________________________________________________\n",
      "flatten_2 (Flatten)             (None, 2)            0           embedding_2[0][0]                \n",
      "__________________________________________________________________________________________________\n",
      "concatenate_1 (Concatenate)     (None, 8)            0           flatten_1[0][0]                  \n",
      "                                                                 lstm_1[0][0]                     \n",
      "__________________________________________________________________________________________________\n",
      "concatenate_2 (Concatenate)     (None, 8)            0           flatten_2[0][0]                  \n",
      "                                                                 lstm_1[1][0]                     \n",
      "__________________________________________________________________________________________________\n",
      "batch_normalization_1 (BatchNor (None, 8)            32          concatenate_1[0][0]              \n",
      "__________________________________________________________________________________________________\n",
      "batch_normalization_2 (BatchNor (None, 8)            32          concatenate_2[0][0]              \n",
      "__________________________________________________________________________________________________\n",
      "dot_1 (Dot)                     (None, 1)            0           batch_normalization_1[0][0]      \n",
      "                                                                 batch_normalization_2[0][0]      \n",
      "__________________________________________________________________________________________________\n",
      "activation_1 (Activation)       (None, 1)            0           dot_1[0][0]                      \n",
      "__________________________________________________________________________________________________\n",
      "activation_2 (Activation)       (None, 1)            0           dot_1[0][0]                      \n",
      "==================================================================================================\n",
      "Total params: 31,948\n",
      "Trainable params: 2,716\n",
      "Non-trainable params: 29,232\n",
      "__________________________________________________________________________________________________\n",
      "None\n"
     ]
    },
    {
     "name": "stderr",
     "output_type": "stream",
     "text": [
      "/mnt/backup/archive/large_disc/industry2vec-refactor/src/ing_models.py:84: UserWarning: Update your `Model` call to the Keras 2 API: `Model(outputs=[<tf.Tenso..., inputs=[<tf.Tenso...)`\n",
      "  output=[predictions, digit2_match])\n"
     ]
    }
   ],
   "source": [
    "model, embedding_model = industry_embedding_model_build(vocab_size,\n",
    "                                   num_words,\n",
    "                                   vec_dim_4digit,\n",
    "                                   vec_dim_desc,   \n",
    "                                   embedding_matrix)"
   ]
  },
  {
   "cell_type": "markdown",
   "metadata": {},
   "source": [
    "# Fit the model"
   ]
  },
  {
   "cell_type": "code",
   "execution_count": 9,
   "metadata": {},
   "outputs": [
    {
     "name": "stdout",
     "output_type": "stream",
     "text": [
      "nb_epoch: 100\n",
      "batch_size: 1024\n"
     ]
    }
   ],
   "source": [
    "nb_epoch = 100\n",
    "batch_size = 1024\n",
    "print('nb_epoch: {}'.format(nb_epoch))\n",
    "print('batch_size: {}'.format(batch_size))"
   ]
  },
  {
   "cell_type": "code",
   "execution_count": 10,
   "metadata": {},
   "outputs": [
    {
     "name": "stdout",
     "output_type": "stream",
     "text": [
      "Train on 1480221 samples, validate on 164469 samples\n",
      "Epoch 1/100\n",
      "1480221/1480221 [==============================] - 222s 150us/step - loss: 0.3887 - activation_1_loss: 0.3377 - activation_2_loss: 0.5924 - val_loss: 0.2949 - val_activation_1_loss: 0.2262 - val_activation_2_loss: 0.5699\n",
      "Epoch 2/100\n",
      "1480221/1480221 [==============================] - 222s 150us/step - loss: 0.2858 - activation_1_loss: 0.2158 - activation_2_loss: 0.5660 - val_loss: 0.2791 - val_activation_1_loss: 0.2069 - val_activation_2_loss: 0.5677\n",
      "Epoch 3/100\n",
      "1480221/1480221 [==============================] - 221s 149us/step - loss: 0.2778 - activation_1_loss: 0.2058 - activation_2_loss: 0.5658 - val_loss: 0.2753 - val_activation_1_loss: 0.2009 - val_activation_2_loss: 0.5728\n",
      "Epoch 4/100\n",
      "1480221/1480221 [==============================] - 223s 150us/step - loss: 0.2743 - activation_1_loss: 0.2017 - activation_2_loss: 0.5646 - val_loss: 0.2716 - val_activation_1_loss: 0.1953 - val_activation_2_loss: 0.5770\n",
      "Epoch 5/100\n",
      "1480221/1480221 [==============================] - 219s 148us/step - loss: 0.2723 - activation_1_loss: 0.1995 - activation_2_loss: 0.5634 - val_loss: 0.2705 - val_activation_1_loss: 0.1996 - val_activation_2_loss: 0.5544\n",
      "Epoch 6/100\n",
      "1480221/1480221 [==============================] - 219s 148us/step - loss: 0.2709 - activation_1_loss: 0.1980 - activation_2_loss: 0.5628 - val_loss: 0.2688 - val_activation_1_loss: 0.1949 - val_activation_2_loss: 0.5643\n",
      "Epoch 7/100\n",
      "1480221/1480221 [==============================] - 220s 149us/step - loss: 0.2699 - activation_1_loss: 0.1967 - activation_2_loss: 0.5627 - val_loss: 0.2683 - val_activation_1_loss: 0.1956 - val_activation_2_loss: 0.5591\n",
      "Epoch 8/100\n",
      "1480221/1480221 [==============================] - 219s 148us/step - loss: 0.2691 - activation_1_loss: 0.1958 - activation_2_loss: 0.5624 - val_loss: 0.2679 - val_activation_1_loss: 0.1954 - val_activation_2_loss: 0.5577\n",
      "Epoch 9/100\n",
      "1480221/1480221 [==============================] - 221s 149us/step - loss: 0.2686 - activation_1_loss: 0.1951 - activation_2_loss: 0.5626 - val_loss: 0.2679 - val_activation_1_loss: 0.1964 - val_activation_2_loss: 0.5539\n",
      "Epoch 10/100\n",
      "1480221/1480221 [==============================] - 222s 150us/step - loss: 0.2681 - activation_1_loss: 0.1945 - activation_2_loss: 0.5624 - val_loss: 0.2668 - val_activation_1_loss: 0.1918 - val_activation_2_loss: 0.5667\n",
      "Epoch 11/100\n",
      "1480221/1480221 [==============================] - 223s 151us/step - loss: 0.2677 - activation_1_loss: 0.1940 - activation_2_loss: 0.5623 - val_loss: 0.2665 - val_activation_1_loss: 0.1908 - val_activation_2_loss: 0.5692\n",
      "Epoch 12/100\n",
      "1480221/1480221 [==============================] - 221s 149us/step - loss: 0.2673 - activation_1_loss: 0.1936 - activation_2_loss: 0.5620 - val_loss: 0.2669 - val_activation_1_loss: 0.1949 - val_activation_2_loss: 0.5549\n",
      "Epoch 13/100\n",
      "1480221/1480221 [==============================] - 221s 150us/step - loss: 0.2670 - activation_1_loss: 0.1932 - activation_2_loss: 0.5624 - val_loss: 0.2668 - val_activation_1_loss: 0.1973 - val_activation_2_loss: 0.5448\n",
      "Epoch 14/100\n",
      "1480221/1480221 [==============================] - 222s 150us/step - loss: 0.2667 - activation_1_loss: 0.1928 - activation_2_loss: 0.5623 - val_loss: 0.2653 - val_activation_1_loss: 0.1923 - val_activation_2_loss: 0.5571\n",
      "Epoch 15/100\n",
      "1480221/1480221 [==============================] - 221s 149us/step - loss: 0.2664 - activation_1_loss: 0.1925 - activation_2_loss: 0.5622 - val_loss: 0.2652 - val_activation_1_loss: 0.1910 - val_activation_2_loss: 0.5620\n",
      "Epoch 16/100\n",
      "1480221/1480221 [==============================] - 219s 148us/step - loss: 0.2662 - activation_1_loss: 0.1922 - activation_2_loss: 0.5623 - val_loss: 0.2654 - val_activation_1_loss: 0.1912 - val_activation_2_loss: 0.5624\n",
      "Epoch 17/100\n",
      "1480221/1480221 [==============================] - 218s 147us/step - loss: 0.2660 - activation_1_loss: 0.1919 - activation_2_loss: 0.5624 - val_loss: 0.2655 - val_activation_1_loss: 0.1941 - val_activation_2_loss: 0.5511\n",
      "Epoch 00017: early stopping\n",
      "311/311 [==============================] - 6s 20ms/step\n"
     ]
    }
   ],
   "source": [
    "embedding_vec = industry_embedding_model_fit(model,\n",
    "                                 embedding_model,\n",
    "                                 nb_epoch,\n",
    "                                 batch_size,\n",
    "                                 df,\n",
    "                                 dict_sequence,\n",
    "                                 industry2idx,\n",
    "                                 '../output/naics_code_embedding.txt')"
   ]
  },
  {
   "cell_type": "markdown",
   "metadata": {},
   "source": [
    "# Visualization"
   ]
  },
  {
   "cell_type": "code",
   "execution_count": 13,
   "metadata": {},
   "outputs": [
    {
     "name": "stdout",
     "output_type": "stream",
     "text": [
      "[t-SNE] Computing 91 nearest neighbors...\n",
      "[t-SNE] Indexed 311 samples in 0.001s...\n",
      "[t-SNE] Computed neighbors for 311 samples in 0.013s...\n",
      "[t-SNE] Computed conditional probabilities for sample 311 / 311\n",
      "[t-SNE] Mean sigma: 1.364848\n",
      "[t-SNE] KL divergence after 250 iterations with early exaggeration: 63.308743\n",
      "[t-SNE] KL divergence after 1000 iterations: 0.575829\n"
     ]
    }
   ],
   "source": [
    "X_embedded = evaluation.get_tsne_2d(embedding_vec)"
   ]
  },
  {
   "cell_type": "code",
   "execution_count": 14,
   "metadata": {
    "collapsed": true
   },
   "outputs": [],
   "source": [
    "all_naics_seq = pd.DataFrame({k: v for k, v in dict_sequence.items() if len(k) == 4}).T\n",
    "idx2industry = {k: v for k, v in enumerate(all_naics_seq.index.tolist())}\n",
    "industry2idx = {v: k for k, v in idx2industry.items()}"
   ]
  },
  {
   "cell_type": "code",
   "execution_count": 21,
   "metadata": {
    "scrolled": true
   },
   "outputs": [
    {
     "data": {
      "image/png": "[encoded data removed]",
      "text/plain": [
       "<matplotlib.figure.Figure at 0x7fa9329880b8>"
      ]
     },
     "metadata": {},
     "output_type": "display_data"
    }
   ],
   "source": [
    "COLOR_DIGIT = 2\n",
    "\n",
    "def plot_embedding(X_embedded, df_desc, idx2industry, COLOR_DIGIT):\n",
    "    '''\n",
    "    Plot embedding vector in 2D scatter plot\n",
    "    Group the color by first 2 digit\n",
    "    Input:\n",
    "    - X_embedded: embedding vectors\n",
    "    - df_desc:dataframe with industry description\n",
    "    - idx2industry: dictionary mapping index to industry\n",
    "    '''\n",
    "\n",
    "    code_top_digit = set([code[:COLOR_DIGIT] for code in df_desc.Code.unique()])\n",
    "    code_top_digit = sorted(list(code_top_digit))\n",
    "\n",
    "    rgb_values = sns.color_palette(\"Set2\", len(code_top_digit))\n",
    "    color_map = dict(zip(code_top_digit, rgb_values))\n",
    "\n",
    "    industry_l = [str(idx2industry[idx]) for idx, _ in enumerate(X_embedded)]\n",
    "    color_l = [color_map.get(ind[:COLOR_DIGIT], rgb_values[-1]) for ind in industry_l]\n",
    "\n",
    "    x = X_embedded[:,0]\n",
    "    y = X_embedded[:,1]\n",
    "    plt.scatter(x,y, c=color_l)\n",
    "\n",
    "plot_embedding(X_embedded, df_desc, idx2industry, COLOR_DIGIT)"
   ]
  },
  {
   "cell_type": "code",
   "execution_count": 23,
   "metadata": {},
   "outputs": [
    {
     "data": {
      "text/html": [
       "<div>\n",
       "<style>\n",
       "    .dataframe thead tr:only-child th {\n",
       "        text-align: right;\n",
       "    }\n",
       "\n",
       "    .dataframe thead th {\n",
       "        text-align: left;\n",
       "    }\n",
       "\n",
       "    .dataframe tbody tr th {\n",
       "        vertical-align: top;\n",
       "    }\n",
       "</style>\n",
       "<table border=\"1\" class=\"dataframe\">\n",
       "  <thead>\n",
       "    <tr style=\"text-align: right;\">\n",
       "      <th></th>\n",
       "      <th>naics</th>\n",
       "      <th>distance</th>\n",
       "      <th>description</th>\n",
       "    </tr>\n",
       "  </thead>\n",
       "  <tbody>\n",
       "    <tr>\n",
       "      <th>0</th>\n",
       "      <td>4841</td>\n",
       "      <td>0.000000</td>\n",
       "      <td>General Freight Trucking</td>\n",
       "    </tr>\n",
       "    <tr>\n",
       "      <th>1</th>\n",
       "      <td>4889</td>\n",
       "      <td>0.921830</td>\n",
       "      <td>Other Support Activities for Transportation</td>\n",
       "    </tr>\n",
       "    <tr>\n",
       "      <th>2</th>\n",
       "      <td>4883</td>\n",
       "      <td>1.658117</td>\n",
       "      <td>Support Activities for Water Transportation</td>\n",
       "    </tr>\n",
       "    <tr>\n",
       "      <th>3</th>\n",
       "      <td>5324</td>\n",
       "      <td>1.671808</td>\n",
       "      <td>Commercial and Industrial Machinery and Equipm...</td>\n",
       "    </tr>\n",
       "    <tr>\n",
       "      <th>4</th>\n",
       "      <td>4931</td>\n",
       "      <td>1.746093</td>\n",
       "      <td>Warehousing and Storage</td>\n",
       "    </tr>\n",
       "    <tr>\n",
       "      <th>5</th>\n",
       "      <td>4851</td>\n",
       "      <td>2.021496</td>\n",
       "      <td>Urban Transit Systems</td>\n",
       "    </tr>\n",
       "    <tr>\n",
       "      <th>6</th>\n",
       "      <td>4831</td>\n",
       "      <td>2.036890</td>\n",
       "      <td>Deep Sea, Coastal, and Great Lakes Water Trans...</td>\n",
       "    </tr>\n",
       "    <tr>\n",
       "      <th>7</th>\n",
       "      <td>4884</td>\n",
       "      <td>2.092427</td>\n",
       "      <td>Support Activities for Road Transportation</td>\n",
       "    </tr>\n",
       "    <tr>\n",
       "      <th>8</th>\n",
       "      <td>5611</td>\n",
       "      <td>2.176778</td>\n",
       "      <td>Office Administrative Services</td>\n",
       "    </tr>\n",
       "    <tr>\n",
       "      <th>9</th>\n",
       "      <td>8111</td>\n",
       "      <td>2.200438</td>\n",
       "      <td>Automotive Repair and Maintenance</td>\n",
       "    </tr>\n",
       "  </tbody>\n",
       "</table>\n",
       "</div>"
      ],
      "text/plain": [
       "  naics  distance                                        description\n",
       "0  4841  0.000000                           General Freight Trucking\n",
       "1  4889  0.921830        Other Support Activities for Transportation\n",
       "2  4883  1.658117        Support Activities for Water Transportation\n",
       "3  5324  1.671808  Commercial and Industrial Machinery and Equipm...\n",
       "4  4931  1.746093                            Warehousing and Storage\n",
       "5  4851  2.021496                              Urban Transit Systems\n",
       "6  4831  2.036890  Deep Sea, Coastal, and Great Lakes Water Trans...\n",
       "7  4884  2.092427         Support Activities for Road Transportation\n",
       "8  5611  2.176778                     Office Administrative Services\n",
       "9  8111  2.200438                  Automotive Repair and Maintenance"
      ]
     },
     "execution_count": 23,
     "metadata": {},
     "output_type": "execute_result"
    }
   ],
   "source": [
    "df_sim = evaluation.get_most_similar('4841', 10, embedding_vec, df_desc, industry2idx, idx2industry)\n",
    "df_sim[['naics', 'distance', 'description']]"
   ]
  },
  {
   "cell_type": "code",
   "execution_count": 24,
   "metadata": {},
   "outputs": [
    {
     "data": {
      "text/html": [
       "<div>\n",
       "<style>\n",
       "    .dataframe thead tr:only-child th {\n",
       "        text-align: right;\n",
       "    }\n",
       "\n",
       "    .dataframe thead th {\n",
       "        text-align: left;\n",
       "    }\n",
       "\n",
       "    .dataframe tbody tr th {\n",
       "        vertical-align: top;\n",
       "    }\n",
       "</style>\n",
       "<table border=\"1\" class=\"dataframe\">\n",
       "  <thead>\n",
       "    <tr style=\"text-align: right;\">\n",
       "      <th></th>\n",
       "      <th>naics</th>\n",
       "      <th>distance</th>\n",
       "      <th>description</th>\n",
       "    </tr>\n",
       "  </thead>\n",
       "  <tbody>\n",
       "    <tr>\n",
       "      <th>0</th>\n",
       "      <td>1111</td>\n",
       "      <td>0.000000</td>\n",
       "      <td>Oilseed and Grain Farming</td>\n",
       "    </tr>\n",
       "    <tr>\n",
       "      <th>1</th>\n",
       "      <td>1113</td>\n",
       "      <td>0.736020</td>\n",
       "      <td>Fruit and Tree Nut Farming</td>\n",
       "    </tr>\n",
       "    <tr>\n",
       "      <th>2</th>\n",
       "      <td>1112</td>\n",
       "      <td>0.865366</td>\n",
       "      <td>Vegetable and Melon Farming</td>\n",
       "    </tr>\n",
       "    <tr>\n",
       "      <th>3</th>\n",
       "      <td>1129</td>\n",
       "      <td>0.938195</td>\n",
       "      <td>Other Animal Production</td>\n",
       "    </tr>\n",
       "    <tr>\n",
       "      <th>4</th>\n",
       "      <td>1121</td>\n",
       "      <td>1.073183</td>\n",
       "      <td>Cattle Ranching and Farming</td>\n",
       "    </tr>\n",
       "    <tr>\n",
       "      <th>5</th>\n",
       "      <td>1125</td>\n",
       "      <td>1.176194</td>\n",
       "      <td>Aquaculture</td>\n",
       "    </tr>\n",
       "    <tr>\n",
       "      <th>6</th>\n",
       "      <td>1114</td>\n",
       "      <td>1.277862</td>\n",
       "      <td>Greenhouse, Nursery, and Floriculture Production</td>\n",
       "    </tr>\n",
       "    <tr>\n",
       "      <th>7</th>\n",
       "      <td>1123</td>\n",
       "      <td>1.412860</td>\n",
       "      <td>Poultry and Egg Production</td>\n",
       "    </tr>\n",
       "    <tr>\n",
       "      <th>8</th>\n",
       "      <td>1151</td>\n",
       "      <td>1.678226</td>\n",
       "      <td>Support Activities for Crop Production</td>\n",
       "    </tr>\n",
       "    <tr>\n",
       "      <th>9</th>\n",
       "      <td>1141</td>\n",
       "      <td>1.750099</td>\n",
       "      <td>Fishing</td>\n",
       "    </tr>\n",
       "  </tbody>\n",
       "</table>\n",
       "</div>"
      ],
      "text/plain": [
       "  naics  distance                                       description\n",
       "0  1111  0.000000                         Oilseed and Grain Farming\n",
       "1  1113  0.736020                        Fruit and Tree Nut Farming\n",
       "2  1112  0.865366                       Vegetable and Melon Farming\n",
       "3  1129  0.938195                           Other Animal Production\n",
       "4  1121  1.073183                       Cattle Ranching and Farming\n",
       "5  1125  1.176194                                       Aquaculture\n",
       "6  1114  1.277862  Greenhouse, Nursery, and Floriculture Production\n",
       "7  1123  1.412860                        Poultry and Egg Production\n",
       "8  1151  1.678226            Support Activities for Crop Production\n",
       "9  1141  1.750099                                           Fishing"
      ]
     },
     "execution_count": 24,
     "metadata": {},
     "output_type": "execute_result"
    }
   ],
   "source": [
    "df_sim = evaluation.get_most_similar('1111', 10, embedding_vec, df_desc, industry2idx, idx2industry)\n",
    "df_sim[['naics', 'distance', 'description']]"
   ]
  },
  {
   "cell_type": "code",
   "execution_count": 25,
   "metadata": {},
   "outputs": [
    {
     "data": {
      "text/html": [
       "<div>\n",
       "<style>\n",
       "    .dataframe thead tr:only-child th {\n",
       "        text-align: right;\n",
       "    }\n",
       "\n",
       "    .dataframe thead th {\n",
       "        text-align: left;\n",
       "    }\n",
       "\n",
       "    .dataframe tbody tr th {\n",
       "        vertical-align: top;\n",
       "    }\n",
       "</style>\n",
       "<table border=\"1\" class=\"dataframe\">\n",
       "  <thead>\n",
       "    <tr style=\"text-align: right;\">\n",
       "      <th></th>\n",
       "      <th>naics</th>\n",
       "      <th>distance</th>\n",
       "      <th>description</th>\n",
       "    </tr>\n",
       "  </thead>\n",
       "  <tbody>\n",
       "    <tr>\n",
       "      <th>0</th>\n",
       "      <td>5231</td>\n",
       "      <td>0.000000</td>\n",
       "      <td>Securities and Commodity Contracts Intermediat...</td>\n",
       "    </tr>\n",
       "    <tr>\n",
       "      <th>1</th>\n",
       "      <td>5221</td>\n",
       "      <td>0.878938</td>\n",
       "      <td>Depository Credit Intermediation</td>\n",
       "    </tr>\n",
       "    <tr>\n",
       "      <th>2</th>\n",
       "      <td>5222</td>\n",
       "      <td>1.078533</td>\n",
       "      <td>Nondepository Credit Intermediation</td>\n",
       "    </tr>\n",
       "    <tr>\n",
       "      <th>3</th>\n",
       "      <td>5239</td>\n",
       "      <td>1.406253</td>\n",
       "      <td>Other Financial Investment Activities</td>\n",
       "    </tr>\n",
       "    <tr>\n",
       "      <th>4</th>\n",
       "      <td>5242</td>\n",
       "      <td>1.467337</td>\n",
       "      <td>Agencies, Brokerages, and Other Insurance Rela...</td>\n",
       "    </tr>\n",
       "    <tr>\n",
       "      <th>5</th>\n",
       "      <td>5511</td>\n",
       "      <td>2.057004</td>\n",
       "      <td>Management of Companies and Enterprises</td>\n",
       "    </tr>\n",
       "    <tr>\n",
       "      <th>6</th>\n",
       "      <td>5311</td>\n",
       "      <td>2.303207</td>\n",
       "      <td>Lessors of Real Estate</td>\n",
       "    </tr>\n",
       "    <tr>\n",
       "      <th>7</th>\n",
       "      <td>5416</td>\n",
       "      <td>2.309185</td>\n",
       "      <td>Management, Scientific, and Technical Consulti...</td>\n",
       "    </tr>\n",
       "    <tr>\n",
       "      <th>8</th>\n",
       "      <td>5223</td>\n",
       "      <td>2.488115</td>\n",
       "      <td>Activities Related to Credit Intermediation</td>\n",
       "    </tr>\n",
       "    <tr>\n",
       "      <th>9</th>\n",
       "      <td>5614</td>\n",
       "      <td>2.497818</td>\n",
       "      <td>Business Support Services</td>\n",
       "    </tr>\n",
       "  </tbody>\n",
       "</table>\n",
       "</div>"
      ],
      "text/plain": [
       "  naics  distance                                        description\n",
       "0  5231  0.000000  Securities and Commodity Contracts Intermediat...\n",
       "1  5221  0.878938                  Depository Credit Intermediation \n",
       "2  5222  1.078533               Nondepository Credit Intermediation \n",
       "3  5239  1.406253              Other Financial Investment Activities\n",
       "4  5242  1.467337  Agencies, Brokerages, and Other Insurance Rela...\n",
       "5  5511  2.057004            Management of Companies and Enterprises\n",
       "6  5311  2.303207                             Lessors of Real Estate\n",
       "7  5416  2.309185  Management, Scientific, and Technical Consulti...\n",
       "8  5223  2.488115       Activities Related to Credit Intermediation \n",
       "9  5614  2.497818                          Business Support Services"
      ]
     },
     "execution_count": 25,
     "metadata": {},
     "output_type": "execute_result"
    }
   ],
   "source": [
    "df_sim = evaluation.get_most_similar('5231', 10, embedding_vec, df_desc, industry2idx, idx2industry)\n",
    "df_sim[['naics', 'distance', 'description']]"
   ]
  },
  {
   "cell_type": "code",
   "execution_count": null,
   "metadata": {
    "collapsed": true
   },
   "outputs": [],
   "source": []
  }
 ],
 "metadata": {
  "kernelspec": {
   "display_name": "Python 3",
   "language": "python",
   "name": "python3"
  },
  "language_info": {
   "codemirror_mode": {
    "name": "ipython",
    "version": 3
   },
   "file_extension": ".py",
   "mimetype": "text/x-python",
   "name": "python",
   "nbconvert_exporter": "python",
   "pygments_lexer": "ipython3",
   "version": "3.5.0"
  },
  "latex_envs": {
   "bibliofile": "biblio.bib",
   "cite_by": "apalike",
   "current_citInitial": 1.0,
   "eqLabelWithNumbers": true,
   "eqNumInitial": 0.0
  },
  "toc": {
   "nav_menu": {
    "height": "66px",
    "width": "252px"
   },
   "navigate_menu": true,
   "number_sections": true,
   "sideBar": true,
   "threshold": 4.0,
   "toc_cell": false,
   "toc_section_display": "block",
   "toc_window_display": false
  }
 },
 "nbformat": 4,
 "nbformat_minor": 2
}
